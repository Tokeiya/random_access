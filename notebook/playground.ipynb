{
 "cells": [
  {
   "cell_type": "code",
   "id": "initial_id",
   "metadata": {
    "collapsed": true,
    "ExecuteTime": {
     "end_time": "2024-11-03T13:47:47.055926Z",
     "start_time": "2024-11-03T13:47:46.927141Z"
    }
   },
   "source": [
    "import sys\n",
    "import os\n",
    "import numpy as np\n",
    "import polars as pl"
   ],
   "outputs": [],
   "execution_count": 2
  },
  {
   "metadata": {
    "ExecuteTime": {
     "end_time": "2024-11-03T14:06:54.407753Z",
     "start_time": "2024-11-03T14:06:54.405254Z"
    }
   },
   "cell_type": "code",
   "source": [
    "path = '../artifacts'\n",
    "\n",
    "for name in os.listdir(path):\n",
    "    if '512' in name:\n",
    "        print(name)"
   ],
   "id": "c6e79bcf1e8d31f0",
   "outputs": [
    {
     "name": "stdout",
     "output_type": "stream",
     "text": [
      "x86_64_512_16_hardware.tsv\n",
      "x86_64_512_16_theoretical.tsv\n",
      "x86_64_512_16_xorshift64.tsv\n",
      "x86_64_512_16_xorshiro64.tsv\n"
     ]
    }
   ],
   "execution_count": 18
  },
  {
   "metadata": {
    "ExecuteTime": {
     "end_time": "2024-11-03T14:10:40.931493Z",
     "start_time": "2024-11-03T14:10:40.928331Z"
    }
   },
   "cell_type": "code",
   "source": [
    "theoretical = pl.read_csv('../artifacts/x86_64_512_16_theoretical.tsv', separator='\\t')\n",
    "hard_rnd = pl.read_csv('../artifacts/x86_64_512_16_hardware.tsv', separator='\\t')"
   ],
   "id": "cfd53f16f1787cbf",
   "outputs": [],
   "execution_count": 23
  },
  {
   "metadata": {
    "ExecuteTime": {
     "end_time": "2024-11-03T14:10:50.643033Z",
     "start_time": "2024-11-03T14:10:50.639511Z"
    }
   },
   "cell_type": "code",
   "source": "hard_rnd",
   "id": "aa2e17a3daf6ba26",
   "outputs": [
    {
     "data": {
      "text/plain": [
       "shape: (512, 6)\n",
       "┌────────┬──────────────┬──────┬───────┬───────┬───────┐\n",
       "│ arch   ┆ method       ┆ size ┆ index ┆ count ┆ diff  │\n",
       "│ ---    ┆ ---          ┆ ---  ┆ ---   ┆ ---   ┆ ---   │\n",
       "│ str    ┆ str          ┆ i64  ┆ i64   ┆ i64   ┆ i64   │\n",
       "╞════════╪══════════════╪══════╪═══════╪═══════╪═══════╡\n",
       "│ x86_64 ┆ hardware_rnd ┆ 512  ┆ 0     ┆ 8250  ┆ 8192  │\n",
       "│ x86_64 ┆ hardware_rnd ┆ 512  ┆ 1     ┆ 8276  ┆ 16177 │\n",
       "│ x86_64 ┆ hardware_rnd ┆ 512  ┆ 2     ┆ 8306  ┆ 16315 │\n",
       "│ x86_64 ┆ hardware_rnd ┆ 512  ┆ 3     ┆ 8118  ┆ 16176 │\n",
       "│ x86_64 ┆ hardware_rnd ┆ 512  ┆ 4     ┆ 8183  ┆ 16266 │\n",
       "│ …      ┆ …            ┆ …    ┆ …     ┆ …     ┆ …     │\n",
       "│ x86_64 ┆ hardware_rnd ┆ 512  ┆ 507   ┆ 8246  ┆ 174   │\n",
       "│ x86_64 ┆ hardware_rnd ┆ 512  ┆ 508   ┆ 7936  ┆ 104   │\n",
       "│ x86_64 ┆ hardware_rnd ┆ 512  ┆ 509   ┆ 8218  ┆ 96    │\n",
       "│ x86_64 ┆ hardware_rnd ┆ 512  ┆ 510   ┆ 8318  ┆ 63    │\n",
       "│ x86_64 ┆ hardware_rnd ┆ 512  ┆ 511   ┆ 8076  ┆ 28    │\n",
       "└────────┴──────────────┴──────┴───────┴───────┴───────┘"
      ],
      "text/html": [
       "<div><style>\n",
       ".dataframe > thead > tr,\n",
       ".dataframe > tbody > tr {\n",
       "  text-align: right;\n",
       "  white-space: pre-wrap;\n",
       "}\n",
       "</style>\n",
       "<small>shape: (512, 6)</small><table border=\"1\" class=\"dataframe\"><thead><tr><th>arch</th><th>method</th><th>size</th><th>index</th><th>count</th><th>diff</th></tr><tr><td>str</td><td>str</td><td>i64</td><td>i64</td><td>i64</td><td>i64</td></tr></thead><tbody><tr><td>&quot;x86_64&quot;</td><td>&quot;hardware_rnd&quot;</td><td>512</td><td>0</td><td>8250</td><td>8192</td></tr><tr><td>&quot;x86_64&quot;</td><td>&quot;hardware_rnd&quot;</td><td>512</td><td>1</td><td>8276</td><td>16177</td></tr><tr><td>&quot;x86_64&quot;</td><td>&quot;hardware_rnd&quot;</td><td>512</td><td>2</td><td>8306</td><td>16315</td></tr><tr><td>&quot;x86_64&quot;</td><td>&quot;hardware_rnd&quot;</td><td>512</td><td>3</td><td>8118</td><td>16176</td></tr><tr><td>&quot;x86_64&quot;</td><td>&quot;hardware_rnd&quot;</td><td>512</td><td>4</td><td>8183</td><td>16266</td></tr><tr><td>&hellip;</td><td>&hellip;</td><td>&hellip;</td><td>&hellip;</td><td>&hellip;</td><td>&hellip;</td></tr><tr><td>&quot;x86_64&quot;</td><td>&quot;hardware_rnd&quot;</td><td>512</td><td>507</td><td>8246</td><td>174</td></tr><tr><td>&quot;x86_64&quot;</td><td>&quot;hardware_rnd&quot;</td><td>512</td><td>508</td><td>7936</td><td>104</td></tr><tr><td>&quot;x86_64&quot;</td><td>&quot;hardware_rnd&quot;</td><td>512</td><td>509</td><td>8218</td><td>96</td></tr><tr><td>&quot;x86_64&quot;</td><td>&quot;hardware_rnd&quot;</td><td>512</td><td>510</td><td>8318</td><td>63</td></tr><tr><td>&quot;x86_64&quot;</td><td>&quot;hardware_rnd&quot;</td><td>512</td><td>511</td><td>8076</td><td>28</td></tr></tbody></table></div>"
      ]
     },
     "execution_count": 24,
     "metadata": {},
     "output_type": "execute_result"
    }
   ],
   "execution_count": 24
  },
  {
   "metadata": {
    "ExecuteTime": {
     "end_time": "2024-11-03T14:12:25.830219Z",
     "start_time": "2024-11-03T14:12:25.827901Z"
    }
   },
   "cell_type": "code",
   "source": "theoretical = theoretical.drop(['arch', 'size'])",
   "id": "53a6a3d512bcdb6",
   "outputs": [],
   "execution_count": 25
  },
  {
   "metadata": {
    "ExecuteTime": {
     "end_time": "2024-11-03T14:17:13.764428Z",
     "start_time": "2024-11-03T14:17:13.762094Z"
    }
   },
   "cell_type": "code",
   "source": "theoretical = theoretical.drop(['method']).rename({'count': 'theoretical_count', 'diff': 'theoretical_diff'})",
   "id": "208b856c2cab6f1",
   "outputs": [],
   "execution_count": 27
  },
  {
   "metadata": {
    "ExecuteTime": {
     "end_time": "2024-11-03T14:17:16.419863Z",
     "start_time": "2024-11-03T14:17:16.416235Z"
    }
   },
   "cell_type": "code",
   "source": "theoretical",
   "id": "bd759ee9791cf1cb",
   "outputs": [
    {
     "data": {
      "text/plain": [
       "shape: (512, 3)\n",
       "┌───────┬───────────────────┬──────────────────┐\n",
       "│ index ┆ theoretical_count ┆ theoretical_diff │\n",
       "│ ---   ┆ ---               ┆ ---              │\n",
       "│ i64   ┆ i64               ┆ i64              │\n",
       "╞═══════╪═══════════════════╪══════════════════╡\n",
       "│ 0     ┆ 8192              ┆ 16               │\n",
       "│ 1     ┆ 16352             ┆ 16               │\n",
       "│ 2     ┆ 16320             ┆ 16               │\n",
       "│ 3     ┆ 16288             ┆ 16               │\n",
       "│ 4     ┆ 16256             ┆ 16               │\n",
       "│ …     ┆ …                 ┆ …                │\n",
       "│ 507   ┆ 160               ┆ 16               │\n",
       "│ 508   ┆ 128               ┆ 16               │\n",
       "│ 509   ┆ 96                ┆ 16               │\n",
       "│ 510   ┆ 64                ┆ 16               │\n",
       "│ 511   ┆ 32                ┆ 16               │\n",
       "└───────┴───────────────────┴──────────────────┘"
      ],
      "text/html": [
       "<div><style>\n",
       ".dataframe > thead > tr,\n",
       ".dataframe > tbody > tr {\n",
       "  text-align: right;\n",
       "  white-space: pre-wrap;\n",
       "}\n",
       "</style>\n",
       "<small>shape: (512, 3)</small><table border=\"1\" class=\"dataframe\"><thead><tr><th>index</th><th>theoretical_count</th><th>theoretical_diff</th></tr><tr><td>i64</td><td>i64</td><td>i64</td></tr></thead><tbody><tr><td>0</td><td>8192</td><td>16</td></tr><tr><td>1</td><td>16352</td><td>16</td></tr><tr><td>2</td><td>16320</td><td>16</td></tr><tr><td>3</td><td>16288</td><td>16</td></tr><tr><td>4</td><td>16256</td><td>16</td></tr><tr><td>&hellip;</td><td>&hellip;</td><td>&hellip;</td></tr><tr><td>507</td><td>160</td><td>16</td></tr><tr><td>508</td><td>128</td><td>16</td></tr><tr><td>509</td><td>96</td><td>16</td></tr><tr><td>510</td><td>64</td><td>16</td></tr><tr><td>511</td><td>32</td><td>16</td></tr></tbody></table></div>"
      ]
     },
     "execution_count": 28,
     "metadata": {},
     "output_type": "execute_result"
    }
   ],
   "execution_count": 28
  },
  {
   "metadata": {},
   "cell_type": "code",
   "outputs": [],
   "execution_count": null,
   "source": "",
   "id": "6ad92e3bc0662a53"
  }
 ],
 "metadata": {
  "kernelspec": {
   "display_name": "Python 3",
   "language": "python",
   "name": "python3"
  },
  "language_info": {
   "codemirror_mode": {
    "name": "ipython",
    "version": 2
   },
   "file_extension": ".py",
   "mimetype": "text/x-python",
   "name": "python",
   "nbconvert_exporter": "python",
   "pygments_lexer": "ipython2",
   "version": "2.7.6"
  }
 },
 "nbformat": 4,
 "nbformat_minor": 5
}
