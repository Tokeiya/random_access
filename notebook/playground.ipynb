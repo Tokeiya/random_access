{
 "cells": [
  {
   "cell_type": "code",
   "id": "initial_id",
   "metadata": {
    "collapsed": true
   },
   "source": [
    "import sys\n",
    "import os\n",
    "import numpy as np\n",
    "import polars as pl\n",
    "from scipy.linalg import hadamard\n",
    "\n",
    "from scipy.stats import chi2_contingency"
   ],
   "outputs": [],
   "execution_count": null
  },
  {
   "metadata": {},
   "cell_type": "code",
   "source": [
    "path = '../artifacts'\n",
    "\n",
    "for name in os.listdir(path):\n",
    "    if '512' in name:\n",
    "        print(name)"
   ],
   "id": "c6e79bcf1e8d31f0",
   "outputs": [],
   "execution_count": null
  },
  {
   "metadata": {
    "ExecuteTime": {
     "end_time": "2024-11-04T12:35:12.686600Z",
     "start_time": "2024-11-04T12:35:12.682395Z"
    }
   },
   "cell_type": "code",
   "source": [
    "theoretical = pl.read_csv('../artifacts/x86_64_512_16_theoretical.tsv', separator='\\t')\n",
    "hard_rnd = pl.read_csv('../artifacts/x86_64_512_16_xorshiro64.tsv', separator='\\t')\n",
    "\n",
    "theoretical = theoretical.drop(['method', 'arch', 'size']).rename(\n",
    "    {'count': 'theoretical_count', 'diff': 'theoretical_diff'})\n",
    "\n",
    "hard_rnd = hard_rnd.drop(['method', 'arch', 'size']).rename(\n",
    "    {'count': 'hardware_count', 'diff': 'hardware_diff'})\n",
    "df = theoretical.join(hard_rnd, on='index', how='inner')\n",
    "\n",
    "tmp = np.array([df['theoretical_count'].to_list(), df['hardware_count'].to_list()])\n",
    "chi2, p, dof, expected = chi2_contingency(tmp)"
   ],
   "id": "bd759ee9791cf1cb",
   "outputs": [],
   "execution_count": 63
  },
  {
   "metadata": {
    "ExecuteTime": {
     "end_time": "2024-11-04T12:35:18.677373Z",
     "start_time": "2024-11-04T12:35:18.672470Z"
    }
   },
   "cell_type": "code",
   "source": "chi2",
   "id": "8e5218530362e636",
   "outputs": [
    {
     "data": {
      "text/plain": [
       "np.float64(269.1347399075314)"
      ]
     },
     "execution_count": 65,
     "metadata": {},
     "output_type": "execute_result"
    }
   ],
   "execution_count": 65
  },
  {
   "metadata": {
    "ExecuteTime": {
     "end_time": "2024-11-04T12:35:19.534553Z",
     "start_time": "2024-11-04T12:35:19.529486Z"
    }
   },
   "cell_type": "code",
   "source": "p",
   "id": "45878339bdeb3daf",
   "outputs": [
    {
     "data": {
      "text/plain": [
       "np.float64(1.0)"
      ]
     },
     "execution_count": 66,
     "metadata": {},
     "output_type": "execute_result"
    }
   ],
   "execution_count": 66
  },
  {
   "metadata": {},
   "cell_type": "code",
   "source": "",
   "id": "674186122cf9bb80",
   "outputs": [],
   "execution_count": null
  }
 ],
 "metadata": {
  "kernelspec": {
   "display_name": "Python 3",
   "language": "python",
   "name": "python3"
  },
  "language_info": {
   "codemirror_mode": {
    "name": "ipython",
    "version": 2
   },
   "file_extension": ".py",
   "mimetype": "text/x-python",
   "name": "python",
   "nbconvert_exporter": "python",
   "pygments_lexer": "ipython2",
   "version": "2.7.6"
  }
 },
 "nbformat": 4,
 "nbformat_minor": 5
}
