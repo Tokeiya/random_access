{
 "cells": [
  {
   "cell_type": "code",
   "id": "initial_id",
   "metadata": {
    "collapsed": true,
    "ExecuteTime": {
     "end_time": "2024-11-05T03:24:05.298056Z",
     "start_time": "2024-11-05T03:24:05.085099Z"
    }
   },
   "source": [
    "import sys\n",
    "import os\n",
    "import numpy as np\n",
    "import polars as pl\n",
    "from scipy.linalg import hadamard\n",
    "\n",
    "from scipy.stats import chi2_contingency"
   ],
   "outputs": [],
   "execution_count": 2
  },
  {
   "metadata": {
    "ExecuteTime": {
     "end_time": "2024-11-05T03:24:07.172087Z",
     "start_time": "2024-11-05T03:24:07.169526Z"
    }
   },
   "cell_type": "code",
   "source": [
    "path = '../artifacts'\n",
    "\n",
    "for name in os.listdir(path):\n",
    "    if '512' in name:\n",
    "        print(name)"
   ],
   "id": "c6e79bcf1e8d31f0",
   "outputs": [
    {
     "name": "stdout",
     "output_type": "stream",
     "text": [
      "x86_64_512_16_split64.tsv\n",
      "x86_64_512_16_theoretical.tsv\n",
      "x86_64_512_16_xorshift64.tsv\n",
      "x86_64_512_16_xorshiro64.tsv\n"
     ]
    }
   ],
   "execution_count": 3
  },
  {
   "metadata": {
    "ExecuteTime": {
     "end_time": "2024-11-05T03:26:09.430955Z",
     "start_time": "2024-11-05T03:26:09.419880Z"
    }
   },
   "cell_type": "code",
   "source": [
    "theoretical = pl.read_csv('../artifacts/x86_64_8k_1_theoretical.tsv', separator='\\t')\n",
    "split64 = pl.read_csv('../artifacts/x86_64_8k_1_split64.tsv', separator='\\t')\n",
    "\n",
    "theoretical = theoretical.drop(['method', 'arch', 'size']).rename(\n",
    "    {'count': 'theoretical_count', 'diff': 'theoretical_diff'})\n",
    "\n",
    "split64 = split64.drop(['method', 'arch', 'size']).rename(\n",
    "    {'count': 'split64_count', 'diff': 'split64_diff'})\n",
    "df = theoretical.join(split64, on='index', how='inner')\n",
    "\n",
    "tmp = np.array([df['theoretical_count'].to_list(), df['split64_count'].to_list()])\n",
    "chi2, p, dof, expected = chi2_contingency(tmp)"
   ],
   "id": "bd759ee9791cf1cb",
   "outputs": [],
   "execution_count": 9
  },
  {
   "metadata": {
    "ExecuteTime": {
     "end_time": "2024-11-05T03:26:10.130642Z",
     "start_time": "2024-11-05T03:26:10.127004Z"
    }
   },
   "cell_type": "code",
   "source": "chi2",
   "id": "8e5218530362e636",
   "outputs": [
    {
     "data": {
      "text/plain": [
       "np.float64(4068.159892299962)"
      ]
     },
     "execution_count": 10,
     "metadata": {},
     "output_type": "execute_result"
    }
   ],
   "execution_count": 10
  },
  {
   "metadata": {
    "ExecuteTime": {
     "end_time": "2024-11-05T03:26:10.795040Z",
     "start_time": "2024-11-05T03:26:10.792659Z"
    }
   },
   "cell_type": "code",
   "source": "p",
   "id": "45878339bdeb3daf",
   "outputs": [
    {
     "data": {
      "text/plain": [
       "np.float64(1.0)"
      ]
     },
     "execution_count": 11,
     "metadata": {},
     "output_type": "execute_result"
    }
   ],
   "execution_count": 11
  },
  {
   "metadata": {
    "ExecuteTime": {
     "end_time": "2024-11-05T03:26:29.397500Z",
     "start_time": "2024-11-05T03:26:29.393668Z"
    }
   },
   "cell_type": "code",
   "source": "df",
   "id": "674186122cf9bb80",
   "outputs": [
    {
     "data": {
      "text/plain": [
       "shape: (8_192, 5)\n",
       "┌───────┬───────────────────┬──────────────────┬───────────────┬──────────────┐\n",
       "│ index ┆ theoretical_count ┆ theoretical_diff ┆ split64_count ┆ split64_diff │\n",
       "│ ---   ┆ ---               ┆ ---              ┆ ---           ┆ ---          │\n",
       "│ i64   ┆ i64               ┆ i64              ┆ i64           ┆ i64          │\n",
       "╞═══════╪═══════════════════╪══════════════════╪═══════════════╪══════════════╡\n",
       "│ 0     ┆ 8192              ┆ 8192             ┆ 8295          ┆ 8145         │\n",
       "│ 1     ┆ 8192              ┆ 16382            ┆ 8307          ┆ 16508        │\n",
       "│ 2     ┆ 8192              ┆ 16380            ┆ 8164          ┆ 16536        │\n",
       "│ 3     ┆ 8192              ┆ 16378            ┆ 8167          ┆ 16369        │\n",
       "│ 4     ┆ 8192              ┆ 16376            ┆ 8284          ┆ 16322        │\n",
       "│ …     ┆ …                 ┆ …                ┆ …             ┆ …            │\n",
       "│ 8187  ┆ 8192              ┆ 10               ┆ 8208          ┆ 9            │\n",
       "│ 8188  ┆ 8192              ┆ 8                ┆ 8161          ┆ 7            │\n",
       "│ 8189  ┆ 8192              ┆ 6                ┆ 8139          ┆ 11           │\n",
       "│ 8190  ┆ 8192              ┆ 4                ┆ 8060          ┆ 1            │\n",
       "│ 8191  ┆ 8192              ┆ 2                ┆ 8102          ┆ 1            │\n",
       "└───────┴───────────────────┴──────────────────┴───────────────┴──────────────┘"
      ],
      "text/html": [
       "<div><style>\n",
       ".dataframe > thead > tr,\n",
       ".dataframe > tbody > tr {\n",
       "  text-align: right;\n",
       "  white-space: pre-wrap;\n",
       "}\n",
       "</style>\n",
       "<small>shape: (8_192, 5)</small><table border=\"1\" class=\"dataframe\"><thead><tr><th>index</th><th>theoretical_count</th><th>theoretical_diff</th><th>split64_count</th><th>split64_diff</th></tr><tr><td>i64</td><td>i64</td><td>i64</td><td>i64</td><td>i64</td></tr></thead><tbody><tr><td>0</td><td>8192</td><td>8192</td><td>8295</td><td>8145</td></tr><tr><td>1</td><td>8192</td><td>16382</td><td>8307</td><td>16508</td></tr><tr><td>2</td><td>8192</td><td>16380</td><td>8164</td><td>16536</td></tr><tr><td>3</td><td>8192</td><td>16378</td><td>8167</td><td>16369</td></tr><tr><td>4</td><td>8192</td><td>16376</td><td>8284</td><td>16322</td></tr><tr><td>&hellip;</td><td>&hellip;</td><td>&hellip;</td><td>&hellip;</td><td>&hellip;</td></tr><tr><td>8187</td><td>8192</td><td>10</td><td>8208</td><td>9</td></tr><tr><td>8188</td><td>8192</td><td>8</td><td>8161</td><td>7</td></tr><tr><td>8189</td><td>8192</td><td>6</td><td>8139</td><td>11</td></tr><tr><td>8190</td><td>8192</td><td>4</td><td>8060</td><td>1</td></tr><tr><td>8191</td><td>8192</td><td>2</td><td>8102</td><td>1</td></tr></tbody></table></div>"
      ]
     },
     "execution_count": 12,
     "metadata": {},
     "output_type": "execute_result"
    }
   ],
   "execution_count": 12
  },
  {
   "metadata": {},
   "cell_type": "code",
   "outputs": [],
   "execution_count": null,
   "source": "",
   "id": "fd4b1451bea80fb3"
  }
 ],
 "metadata": {
  "kernelspec": {
   "display_name": "Python 3",
   "language": "python",
   "name": "python3"
  },
  "language_info": {
   "codemirror_mode": {
    "name": "ipython",
    "version": 2
   },
   "file_extension": ".py",
   "mimetype": "text/x-python",
   "name": "python",
   "nbconvert_exporter": "python",
   "pygments_lexer": "ipython2",
   "version": "2.7.6"
  }
 },
 "nbformat": 4,
 "nbformat_minor": 5
}
