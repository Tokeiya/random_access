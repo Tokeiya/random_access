{
 "cells": [
  {
   "metadata": {
    "ExecuteTime": {
     "end_time": "2024-10-27T13:56:44.975693Z",
     "start_time": "2024-10-27T13:56:44.970735Z"
    }
   },
   "cell_type": "code",
   "source": [
    "import sys\n",
    "import os\n",
    "import importlib\n",
    "\n",
    "sys.path.append(os.path.abspath('../scripts/'))\n",
    "\n",
    "import polars as pl\n",
    "from scripts import helper\n",
    "\n",
    "importlib.reload(helper)\n",
    "\n",
    "df = pl.read_csv(\"../artifacts/rnd_result.tsv\", separator='\\t', has_header=True)\n",
    "pop = pl.read_csv('../artifacts/output.txt', separator='\\t', has_header=True)\n"
   ],
   "id": "da263a41b9d6cd1",
   "outputs": [],
   "execution_count": 92
  },
  {
   "metadata": {
    "ExecuteTime": {
     "end_time": "2024-10-27T13:58:30.409766Z",
     "start_time": "2024-10-27T13:58:30.406375Z"
    }
   },
   "cell_type": "code",
   "source": "helper.summary(df)",
   "id": "84f6f10a70699649",
   "outputs": [
    {
     "data": {
      "text/plain": [
       "{'mean': 682.4854316711426, 'std_dev': 482.8189177694136}"
      ]
     },
     "execution_count": 95,
     "metadata": {},
     "output_type": "execute_result"
    }
   ],
   "execution_count": 95
  },
  {
   "metadata": {
    "ExecuteTime": {
     "end_time": "2024-10-27T13:58:30.889688Z",
     "start_time": "2024-10-27T13:58:30.885516Z"
    }
   },
   "cell_type": "code",
   "source": "helper.summary(pop)",
   "id": "3f7017fafcd0df52",
   "outputs": [
    {
     "data": {
      "text/plain": [
       "{'mean': 682.66650390625, 'std_dev': 482.7182868344828}"
      ]
     },
     "execution_count": 96,
     "metadata": {},
     "output_type": "execute_result"
    }
   ],
   "execution_count": 96
  },
  {
   "metadata": {
    "ExecuteTime": {
     "end_time": "2024-10-27T15:10:58.210782Z",
     "start_time": "2024-10-27T15:10:58.206176Z"
    }
   },
   "cell_type": "code",
   "source": "helper.summary(pl.read_csv('../artifacts/shift_result.tsv', separator='\\t', has_header=True))",
   "id": "bbe74924d3196007",
   "outputs": [
    {
     "data": {
      "text/plain": [
       "{'mean': 685.2421670407057, 'std_dev': 481.8650986966911}"
      ]
     },
     "execution_count": 97,
     "metadata": {},
     "output_type": "execute_result"
    }
   ],
   "execution_count": 97
  },
  {
   "metadata": {
    "ExecuteTime": {
     "end_time": "2024-10-27T15:11:44.222297Z",
     "start_time": "2024-10-27T15:11:44.217761Z"
    }
   },
   "cell_type": "code",
   "source": "helper.summary(pl.read_csv('../artifacts/add_result.tsv', separator='\\t', has_header=True))",
   "id": "ee53b1ab1f5f73cb",
   "outputs": [
    {
     "data": {
      "text/plain": [
       "{'mean': 618.9200776666403, 'std_dev': 435.61584389151216}"
      ]
     },
     "execution_count": 98,
     "metadata": {},
     "output_type": "execute_result"
    }
   ],
   "execution_count": 98
  },
  {
   "metadata": {},
   "cell_type": "code",
   "outputs": [],
   "execution_count": null,
   "source": "",
   "id": "a77273538be62c42"
  }
 ],
 "metadata": {
  "kernelspec": {
   "display_name": "Python 3",
   "language": "python",
   "name": "python3"
  },
  "language_info": {
   "codemirror_mode": {
    "name": "ipython",
    "version": 2
   },
   "file_extension": ".py",
   "mimetype": "text/x-python",
   "name": "python",
   "nbconvert_exporter": "python",
   "pygments_lexer": "ipython2",
   "version": "2.7.6"
  }
 },
 "nbformat": 4,
 "nbformat_minor": 5
}
