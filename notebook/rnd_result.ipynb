{
 "cells": [
  {
   "metadata": {
    "ExecuteTime": {
     "end_time": "2024-10-29T09:36:35.939932Z",
     "start_time": "2024-10-29T09:36:35.934369Z"
    }
   },
   "cell_type": "code",
   "source": [
    "import sys\n",
    "import os\n",
    "import importlib\n",
    "\n",
    "sys.path.append(os.path.abspath('../scripts/'))\n",
    "\n",
    "import polars as pl\n",
    "from scripts import helper\n",
    "\n",
    "importlib.reload(helper)\n",
    "\n"
   ],
   "id": "da263a41b9d6cd1",
   "outputs": [
    {
     "data": {
      "text/plain": [
       "<module 'scripts.helper' from 'F:\\\\random_access\\\\scripts\\\\helper.py'>"
      ]
     },
     "execution_count": 10,
     "metadata": {},
     "output_type": "execute_result"
    }
   ],
   "execution_count": 10
  },
  {
   "metadata": {
    "ExecuteTime": {
     "end_time": "2024-10-29T09:36:41.892709Z",
     "start_time": "2024-10-29T09:36:41.889619Z"
    }
   },
   "cell_type": "code",
   "source": "helper.calc_sample(20)",
   "id": "6e865e55bf976942",
   "outputs": [
    {
     "data": {
      "text/plain": [
       "[20, 38, 36, 34, 32, 30, 28, 26, 24, 22, 20, 18, 16, 14, 12, 10, 8, 6, 4, 2]"
      ]
     },
     "execution_count": 11,
     "metadata": {},
     "output_type": "execute_result"
    }
   ],
   "execution_count": 11
  },
  {
   "metadata": {
    "ExecuteTime": {
     "end_time": "2024-10-29T09:42:03.412556Z",
     "start_time": "2024-10-29T09:42:03.409433Z"
    }
   },
   "cell_type": "code",
   "source": [
    "pl.DataFrame({\n",
    "    'diff': list(range(0, 20)),\n",
    "    'count': helper.calc_sample(20)\n",
    "})"
   ],
   "id": "9517f75d6aad3ca",
   "outputs": [
    {
     "data": {
      "text/plain": [
       "shape: (20, 2)\n",
       "┌──────┬───────┐\n",
       "│ diff ┆ count │\n",
       "│ ---  ┆ ---   │\n",
       "│ i64  ┆ i64   │\n",
       "╞══════╪═══════╡\n",
       "│ 0    ┆ 20    │\n",
       "│ 1    ┆ 38    │\n",
       "│ 2    ┆ 36    │\n",
       "│ 3    ┆ 34    │\n",
       "│ 4    ┆ 32    │\n",
       "│ …    ┆ …     │\n",
       "│ 15   ┆ 10    │\n",
       "│ 16   ┆ 8     │\n",
       "│ 17   ┆ 6     │\n",
       "│ 18   ┆ 4     │\n",
       "│ 19   ┆ 2     │\n",
       "└──────┴───────┘"
      ],
      "text/html": [
       "<div><style>\n",
       ".dataframe > thead > tr,\n",
       ".dataframe > tbody > tr {\n",
       "  text-align: right;\n",
       "  white-space: pre-wrap;\n",
       "}\n",
       "</style>\n",
       "<small>shape: (20, 2)</small><table border=\"1\" class=\"dataframe\"><thead><tr><th>diff</th><th>count</th></tr><tr><td>i64</td><td>i64</td></tr></thead><tbody><tr><td>0</td><td>20</td></tr><tr><td>1</td><td>38</td></tr><tr><td>2</td><td>36</td></tr><tr><td>3</td><td>34</td></tr><tr><td>4</td><td>32</td></tr><tr><td>&hellip;</td><td>&hellip;</td></tr><tr><td>15</td><td>10</td></tr><tr><td>16</td><td>8</td></tr><tr><td>17</td><td>6</td></tr><tr><td>18</td><td>4</td></tr><tr><td>19</td><td>2</td></tr></tbody></table></div>"
      ]
     },
     "execution_count": 18,
     "metadata": {},
     "output_type": "execute_result"
    }
   ],
   "execution_count": 18
  },
  {
   "metadata": {
    "ExecuteTime": {
     "end_time": "2024-10-29T09:45:19.149545Z",
     "start_time": "2024-10-29T09:45:19.141802Z"
    }
   },
   "cell_type": "code",
   "source": [
    "import os\n",
    "\n",
    "os.getrandom(20)"
   ],
   "id": "a9378b88100c5e5a",
   "outputs": [
    {
     "ename": "AttributeError",
     "evalue": "module 'os' has no attribute 'getrandom'",
     "output_type": "error",
     "traceback": [
      "\u001B[1;31m---------------------------------------------------------------------------\u001B[0m",
      "\u001B[1;31mAttributeError\u001B[0m                            Traceback (most recent call last)",
      "Cell \u001B[1;32mIn[22], line 3\u001B[0m\n\u001B[0;32m      1\u001B[0m \u001B[38;5;28;01mimport\u001B[39;00m \u001B[38;5;21;01mos\u001B[39;00m\n\u001B[1;32m----> 3\u001B[0m \u001B[43mos\u001B[49m\u001B[38;5;241;43m.\u001B[39;49m\u001B[43mgetrandom\u001B[49m(\u001B[38;5;241m20\u001B[39m)\n",
      "\u001B[1;31mAttributeError\u001B[0m: module 'os' has no attribute 'getrandom'"
     ]
    }
   ],
   "execution_count": 22
  },
  {
   "metadata": {},
   "cell_type": "code",
   "outputs": [],
   "execution_count": null,
   "source": "",
   "id": "75b962f8126c88aa"
  }
 ],
 "metadata": {
  "kernelspec": {
   "display_name": "Python 3",
   "language": "python",
   "name": "python3"
  },
  "language_info": {
   "codemirror_mode": {
    "name": "ipython",
    "version": 2
   },
   "file_extension": ".py",
   "mimetype": "text/x-python",
   "name": "python",
   "nbconvert_exporter": "python",
   "pygments_lexer": "ipython2",
   "version": "2.7.6"
  }
 },
 "nbformat": 4,
 "nbformat_minor": 5
}
