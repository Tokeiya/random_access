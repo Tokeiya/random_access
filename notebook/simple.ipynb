{
 "cells": [
  {
   "metadata": {},
   "cell_type": "markdown",
   "source": [
    "# Jupyter notebook sample"
   ],
   "id": "8a77807f92f26ee"
  },
  {
   "metadata": {
    "ExecuteTime": {
     "end_time": "2024-10-27T13:53:46.296826Z",
     "start_time": "2024-10-27T13:53:46.293930Z"
    }
   },
   "cell_type": "code",
   "source": [
    "# Import libraries\n",
    "import polars as pl\n",
    "import matplotlib.pyplot as plt\n",
    "\n",
    "import os\n",
    "import math\n",
    "import seaborn as sns\n",
    "\n",
    "from scipy.linalg import sqrtm"
   ],
   "id": "7df9140457caed5e",
   "outputs": [],
   "execution_count": 55
  },
  {
   "metadata": {
    "ExecuteTime": {
     "end_time": "2024-10-27T11:52:54.421896Z",
     "start_time": "2024-10-27T11:52:54.419276Z"
    }
   },
   "cell_type": "code",
   "source": "df = pl.read_csv('../artifacts/output.txt', separator='\\t', has_header=True)",
   "id": "9aed064ac247e60b",
   "outputs": [],
   "execution_count": 20
  },
  {
   "metadata": {
    "ExecuteTime": {
     "end_time": "2024-10-27T11:57:08.587449Z",
     "start_time": "2024-10-27T11:57:08.584899Z"
    }
   },
   "cell_type": "code",
   "source": "df = df.with_columns((pl.col('diff') * pl.col('count')).alias(\"mult\"))",
   "id": "53e15c0d44f65c09",
   "outputs": [],
   "execution_count": 24
  },
  {
   "metadata": {
    "ExecuteTime": {
     "end_time": "2024-10-27T11:58:36.144360Z",
     "start_time": "2024-10-27T11:58:36.141162Z"
    }
   },
   "cell_type": "code",
   "source": "df.mean()",
   "id": "6ed01d37f50f8981",
   "outputs": [
    {
     "data": {
      "text/plain": [
       "shape: (1, 3)\n",
       "┌────────┬────────┬────────────┐\n",
       "│ diff   ┆ count  ┆ mult       │\n",
       "│ ---    ┆ ---    ┆ ---        │\n",
       "│ f64    ┆ f64    ┆ f64        │\n",
       "╞════════╪════════╪════════════╡\n",
       "│ 1023.5 ┆ 2048.0 ┆ 1.398101e6 │\n",
       "└────────┴────────┴────────────┘"
      ],
      "text/html": [
       "<div><style>\n",
       ".dataframe > thead > tr,\n",
       ".dataframe > tbody > tr {\n",
       "  text-align: right;\n",
       "  white-space: pre-wrap;\n",
       "}\n",
       "</style>\n",
       "<small>shape: (1, 3)</small><table border=\"1\" class=\"dataframe\"><thead><tr><th>diff</th><th>count</th><th>mult</th></tr><tr><td>f64</td><td>f64</td><td>f64</td></tr></thead><tbody><tr><td>1023.5</td><td>2048.0</td><td>1.398101e6</td></tr></tbody></table></div>"
      ]
     },
     "execution_count": 26,
     "metadata": {},
     "output_type": "execute_result"
    }
   ],
   "execution_count": 26
  },
  {
   "metadata": {
    "ExecuteTime": {
     "end_time": "2024-10-27T12:05:11.709019Z",
     "start_time": "2024-10-27T12:05:11.706539Z"
    }
   },
   "cell_type": "code",
   "source": "arith_mean = df.select('mult').sum() / (2048 ** 2)",
   "id": "ba1688faef24940d",
   "outputs": [],
   "execution_count": 32
  }
 ],
 "metadata": {
  "kernelspec": {
   "display_name": "Python 3",
   "language": "python",
   "name": "python3"
  },
  "language_info": {
   "codemirror_mode": {
    "name": "ipython",
    "version": 2
   },
   "file_extension": ".py",
   "mimetype": "text/x-python",
   "name": "python",
   "nbconvert_exporter": "python",
   "pygments_lexer": "ipython2",
   "version": "2.7.6"
  }
 },
 "nbformat": 4,
 "nbformat_minor": 5
}
